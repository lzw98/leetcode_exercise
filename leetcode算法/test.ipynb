{
 "cells": [
  {
   "cell_type": "code",
   "execution_count": 1,
   "metadata": {},
   "outputs": [],
   "source": [
    "import pandas as pd\n",
    "import numpy as np"
   ]
  },
  {
   "cell_type": "code",
   "execution_count": 2,
   "metadata": {},
   "outputs": [
    {
     "output_type": "stream",
     "name": "stdout",
     "text": "Wall time: 4.55 s\n"
    }
   ],
   "source": [
    "%%time\n",
    "dti = pd.date_range('2020-01-01',periods = 5000000,freq='5T')\n",
    "id = np.random.randint(1,501,size = 5000000)\n",
    "\n",
    "df = pd.DataFrame({\n",
    "    'id':id,\n",
    "    'date':dti\n",
    "}\n",
    ")\n",
    "df.sort_values(by = ['id','date'],ascending=[True,False],inplace=True)"
   ]
  },
  {
   "cell_type": "code",
   "execution_count": 3,
   "metadata": {},
   "outputs": [
    {
     "output_type": "stream",
     "name": "stdout",
     "text": "Wall time: 0 ns\n"
    },
    {
     "output_type": "execute_result",
     "data": {
      "text/plain": "          id                date\n4999943    1 2067-07-13 21:55:00\n4998309    1 2067-07-08 05:45:00\n4998133    1 2067-07-07 15:05:00\n4997699    1 2067-07-06 02:55:00\n4996258    1 2067-07-01 02:50:00\n...      ...                 ...\n2150     500 2020-01-08 11:10:00\n920      500 2020-01-04 04:40:00\n620      500 2020-01-03 03:40:00\n325      500 2020-01-02 03:05:00\n127      500 2020-01-01 10:35:00\n\n[5000000 rows x 2 columns]",
      "text/html": "<div>\n<style scoped>\n    .dataframe tbody tr th:only-of-type {\n        vertical-align: middle;\n    }\n\n    .dataframe tbody tr th {\n        vertical-align: top;\n    }\n\n    .dataframe thead th {\n        text-align: right;\n    }\n</style>\n<table border=\"1\" class=\"dataframe\">\n  <thead>\n    <tr style=\"text-align: right;\">\n      <th></th>\n      <th>id</th>\n      <th>date</th>\n    </tr>\n  </thead>\n  <tbody>\n    <tr>\n      <td>4999943</td>\n      <td>1</td>\n      <td>2067-07-13 21:55:00</td>\n    </tr>\n    <tr>\n      <td>4998309</td>\n      <td>1</td>\n      <td>2067-07-08 05:45:00</td>\n    </tr>\n    <tr>\n      <td>4998133</td>\n      <td>1</td>\n      <td>2067-07-07 15:05:00</td>\n    </tr>\n    <tr>\n      <td>4997699</td>\n      <td>1</td>\n      <td>2067-07-06 02:55:00</td>\n    </tr>\n    <tr>\n      <td>4996258</td>\n      <td>1</td>\n      <td>2067-07-01 02:50:00</td>\n    </tr>\n    <tr>\n      <td>...</td>\n      <td>...</td>\n      <td>...</td>\n    </tr>\n    <tr>\n      <td>2150</td>\n      <td>500</td>\n      <td>2020-01-08 11:10:00</td>\n    </tr>\n    <tr>\n      <td>920</td>\n      <td>500</td>\n      <td>2020-01-04 04:40:00</td>\n    </tr>\n    <tr>\n      <td>620</td>\n      <td>500</td>\n      <td>2020-01-03 03:40:00</td>\n    </tr>\n    <tr>\n      <td>325</td>\n      <td>500</td>\n      <td>2020-01-02 03:05:00</td>\n    </tr>\n    <tr>\n      <td>127</td>\n      <td>500</td>\n      <td>2020-01-01 10:35:00</td>\n    </tr>\n  </tbody>\n</table>\n<p>5000000 rows × 2 columns</p>\n</div>"
     },
     "metadata": {},
     "execution_count": 3
    }
   ],
   "source": [
    "%%time\n",
    "df"
   ]
  },
  {
   "cell_type": "code",
   "execution_count": 4,
   "metadata": {},
   "outputs": [
    {
     "output_type": "stream",
     "name": "stdout",
     "text": "Wall time: 7.52 s\n"
    },
    {
     "output_type": "execute_result",
     "data": {
      "text/plain": "         id                date          date_shift  date_diff  diff  \\\n4999943   1 2067-07-13 21:55:00                 NaT      False     0   \n4998309   1 2067-07-08 05:45:00 2067-07-13 21:55:00       True     1   \n4998133   1 2067-07-07 15:05:00 2067-07-08 05:45:00      False     0   \n4997699   1 2067-07-06 02:55:00 2067-07-07 15:05:00      False     0   \n4996258   1 2067-07-01 02:50:00 2067-07-06 02:55:00       True     1   \n4995761   1 2067-06-29 09:25:00 2067-07-01 02:50:00      False     0   \n4995240   1 2067-06-27 14:00:00 2067-06-29 09:25:00      False     0   \n4995055   1 2067-06-26 22:35:00 2067-06-27 14:00:00      False     0   \n4994957   1 2067-06-26 14:25:00 2067-06-26 22:35:00      False     0   \n4994917   1 2067-06-26 11:05:00 2067-06-26 14:25:00      False     0   \n4994372   1 2067-06-24 13:40:00 2067-06-26 11:05:00      False     0   \n4991257   1 2067-06-13 18:05:00 2067-06-24 13:40:00       True     1   \n4989374   1 2067-06-07 05:10:00 2067-06-13 18:05:00       True     1   \n4988907   1 2067-06-05 14:15:00 2067-06-07 05:10:00      False     0   \n4987175   1 2067-05-30 13:55:00 2067-06-05 14:15:00       True     1   \n4986423   1 2067-05-27 23:15:00 2067-05-30 13:55:00      False     0   \n4984301   1 2067-05-20 14:25:00 2067-05-27 23:15:00       True     1   \n4982606   1 2067-05-14 17:10:00 2067-05-20 14:25:00       True     1   \n4982563   1 2067-05-14 13:35:00 2067-05-14 17:10:00      False     0   \n4982447   1 2067-05-14 03:55:00 2067-05-14 13:35:00      False     0   \n4981945   1 2067-05-12 10:05:00 2067-05-14 03:55:00      False     0   \n4980936   1 2067-05-08 22:00:00 2067-05-12 10:05:00      False     0   \n4980808   1 2067-05-08 11:20:00 2067-05-08 22:00:00      False     0   \n4980048   1 2067-05-05 20:00:00 2067-05-08 11:20:00      False     0   \n4979356   1 2067-05-03 10:20:00 2067-05-05 20:00:00      False     0   \n4978957   1 2067-05-02 01:05:00 2067-05-03 10:20:00      False     0   \n4978743   1 2067-05-01 07:15:00 2067-05-02 01:05:00      False     0   \n4978641   1 2067-04-30 22:45:00 2067-05-01 07:15:00      False     0   \n4978631   1 2067-04-30 21:55:00 2067-04-30 22:45:00      False     0   \n4978447   1 2067-04-30 06:35:00 2067-04-30 21:55:00      False     0   \n4978298   1 2067-04-29 18:10:00 2067-04-30 06:35:00      False     0   \n4978240   1 2067-04-29 13:20:00 2067-04-29 18:10:00      False     0   \n4978077   1 2067-04-28 23:45:00 2067-04-29 13:20:00      False     0   \n4977020   1 2067-04-25 07:40:00 2067-04-28 23:45:00      False     0   \n4976207   1 2067-04-22 11:55:00 2067-04-25 07:40:00      False     0   \n4976017   1 2067-04-21 20:05:00 2067-04-22 11:55:00      False     0   \n4975274   1 2067-04-19 06:10:00 2067-04-21 20:05:00      False     0   \n4975256   1 2067-04-19 04:40:00 2067-04-19 06:10:00      False     0   \n4974379   1 2067-04-16 03:35:00 2067-04-19 04:40:00      False     0   \n4974260   1 2067-04-15 17:40:00 2067-04-16 03:35:00      False     0   \n4974181   1 2067-04-15 11:05:00 2067-04-15 17:40:00      False     0   \n4973282   1 2067-04-12 08:10:00 2067-04-15 11:05:00      False     0   \n4972946   1 2067-04-11 04:10:00 2067-04-12 08:10:00      False     0   \n4971464   1 2067-04-06 00:40:00 2067-04-11 04:10:00       True     1   \n4971455   1 2067-04-05 23:55:00 2067-04-06 00:40:00      False     0   \n4969954   1 2067-03-31 18:50:00 2067-04-05 23:55:00       True     1   \n4969821   1 2067-03-31 07:45:00 2067-03-31 18:50:00      False     0   \n4969548   1 2067-03-30 09:00:00 2067-03-31 07:45:00      False     0   \n4969445   1 2067-03-30 00:25:00 2067-03-30 09:00:00      False     0   \n4969256   1 2067-03-29 08:40:00 2067-03-30 00:25:00      False     0   \n\n         diff_cumsum  new_id_surfix new_id  \n4999943            0              1    1-1  \n4998309            1              2    1-2  \n4998133            1              2    1-2  \n4997699            1              2    1-2  \n4996258            2              3    1-3  \n4995761            2              3    1-3  \n4995240            2              3    1-3  \n4995055            2              3    1-3  \n4994957            2              3    1-3  \n4994917            2              3    1-3  \n4994372            2              3    1-3  \n4991257            3              4    1-4  \n4989374            4              5    1-5  \n4988907            4              5    1-5  \n4987175            5              6    1-6  \n4986423            5              6    1-6  \n4984301            6              7    1-7  \n4982606            7              8    1-8  \n4982563            7              8    1-8  \n4982447            7              8    1-8  \n4981945            7              8    1-8  \n4980936            7              8    1-8  \n4980808            7              8    1-8  \n4980048            7              8    1-8  \n4979356            7              8    1-8  \n4978957            7              8    1-8  \n4978743            7              8    1-8  \n4978641            7              8    1-8  \n4978631            7              8    1-8  \n4978447            7              8    1-8  \n4978298            7              8    1-8  \n4978240            7              8    1-8  \n4978077            7              8    1-8  \n4977020            7              8    1-8  \n4976207            7              8    1-8  \n4976017            7              8    1-8  \n4975274            7              8    1-8  \n4975256            7              8    1-8  \n4974379            7              8    1-8  \n4974260            7              8    1-8  \n4974181            7              8    1-8  \n4973282            7              8    1-8  \n4972946            7              8    1-8  \n4971464            8              9    1-9  \n4971455            8              9    1-9  \n4969954            9             10   1-10  \n4969821            9             10   1-10  \n4969548            9             10   1-10  \n4969445            9             10   1-10  \n4969256            9             10   1-10  ",
      "text/html": "<div>\n<style scoped>\n    .dataframe tbody tr th:only-of-type {\n        vertical-align: middle;\n    }\n\n    .dataframe tbody tr th {\n        vertical-align: top;\n    }\n\n    .dataframe thead th {\n        text-align: right;\n    }\n</style>\n<table border=\"1\" class=\"dataframe\">\n  <thead>\n    <tr style=\"text-align: right;\">\n      <th></th>\n      <th>id</th>\n      <th>date</th>\n      <th>date_shift</th>\n      <th>date_diff</th>\n      <th>diff</th>\n      <th>diff_cumsum</th>\n      <th>new_id_surfix</th>\n      <th>new_id</th>\n    </tr>\n  </thead>\n  <tbody>\n    <tr>\n      <td>4999943</td>\n      <td>1</td>\n      <td>2067-07-13 21:55:00</td>\n      <td>NaT</td>\n      <td>False</td>\n      <td>0</td>\n      <td>0</td>\n      <td>1</td>\n      <td>1-1</td>\n    </tr>\n    <tr>\n      <td>4998309</td>\n      <td>1</td>\n      <td>2067-07-08 05:45:00</td>\n      <td>2067-07-13 21:55:00</td>\n      <td>True</td>\n      <td>1</td>\n      <td>1</td>\n      <td>2</td>\n      <td>1-2</td>\n    </tr>\n    <tr>\n      <td>4998133</td>\n      <td>1</td>\n      <td>2067-07-07 15:05:00</td>\n      <td>2067-07-08 05:45:00</td>\n      <td>False</td>\n      <td>0</td>\n      <td>1</td>\n      <td>2</td>\n      <td>1-2</td>\n    </tr>\n    <tr>\n      <td>4997699</td>\n      <td>1</td>\n      <td>2067-07-06 02:55:00</td>\n      <td>2067-07-07 15:05:00</td>\n      <td>False</td>\n      <td>0</td>\n      <td>1</td>\n      <td>2</td>\n      <td>1-2</td>\n    </tr>\n    <tr>\n      <td>4996258</td>\n      <td>1</td>\n      <td>2067-07-01 02:50:00</td>\n      <td>2067-07-06 02:55:00</td>\n      <td>True</td>\n      <td>1</td>\n      <td>2</td>\n      <td>3</td>\n      <td>1-3</td>\n    </tr>\n    <tr>\n      <td>4995761</td>\n      <td>1</td>\n      <td>2067-06-29 09:25:00</td>\n      <td>2067-07-01 02:50:00</td>\n      <td>False</td>\n      <td>0</td>\n      <td>2</td>\n      <td>3</td>\n      <td>1-3</td>\n    </tr>\n    <tr>\n      <td>4995240</td>\n      <td>1</td>\n      <td>2067-06-27 14:00:00</td>\n      <td>2067-06-29 09:25:00</td>\n      <td>False</td>\n      <td>0</td>\n      <td>2</td>\n      <td>3</td>\n      <td>1-3</td>\n    </tr>\n    <tr>\n      <td>4995055</td>\n      <td>1</td>\n      <td>2067-06-26 22:35:00</td>\n      <td>2067-06-27 14:00:00</td>\n      <td>False</td>\n      <td>0</td>\n      <td>2</td>\n      <td>3</td>\n      <td>1-3</td>\n    </tr>\n    <tr>\n      <td>4994957</td>\n      <td>1</td>\n      <td>2067-06-26 14:25:00</td>\n      <td>2067-06-26 22:35:00</td>\n      <td>False</td>\n      <td>0</td>\n      <td>2</td>\n      <td>3</td>\n      <td>1-3</td>\n    </tr>\n    <tr>\n      <td>4994917</td>\n      <td>1</td>\n      <td>2067-06-26 11:05:00</td>\n      <td>2067-06-26 14:25:00</td>\n      <td>False</td>\n      <td>0</td>\n      <td>2</td>\n      <td>3</td>\n      <td>1-3</td>\n    </tr>\n    <tr>\n      <td>4994372</td>\n      <td>1</td>\n      <td>2067-06-24 13:40:00</td>\n      <td>2067-06-26 11:05:00</td>\n      <td>False</td>\n      <td>0</td>\n      <td>2</td>\n      <td>3</td>\n      <td>1-3</td>\n    </tr>\n    <tr>\n      <td>4991257</td>\n      <td>1</td>\n      <td>2067-06-13 18:05:00</td>\n      <td>2067-06-24 13:40:00</td>\n      <td>True</td>\n      <td>1</td>\n      <td>3</td>\n      <td>4</td>\n      <td>1-4</td>\n    </tr>\n    <tr>\n      <td>4989374</td>\n      <td>1</td>\n      <td>2067-06-07 05:10:00</td>\n      <td>2067-06-13 18:05:00</td>\n      <td>True</td>\n      <td>1</td>\n      <td>4</td>\n      <td>5</td>\n      <td>1-5</td>\n    </tr>\n    <tr>\n      <td>4988907</td>\n      <td>1</td>\n      <td>2067-06-05 14:15:00</td>\n      <td>2067-06-07 05:10:00</td>\n      <td>False</td>\n      <td>0</td>\n      <td>4</td>\n      <td>5</td>\n      <td>1-5</td>\n    </tr>\n    <tr>\n      <td>4987175</td>\n      <td>1</td>\n      <td>2067-05-30 13:55:00</td>\n      <td>2067-06-05 14:15:00</td>\n      <td>True</td>\n      <td>1</td>\n      <td>5</td>\n      <td>6</td>\n      <td>1-6</td>\n    </tr>\n    <tr>\n      <td>4986423</td>\n      <td>1</td>\n      <td>2067-05-27 23:15:00</td>\n      <td>2067-05-30 13:55:00</td>\n      <td>False</td>\n      <td>0</td>\n      <td>5</td>\n      <td>6</td>\n      <td>1-6</td>\n    </tr>\n    <tr>\n      <td>4984301</td>\n      <td>1</td>\n      <td>2067-05-20 14:25:00</td>\n      <td>2067-05-27 23:15:00</td>\n      <td>True</td>\n      <td>1</td>\n      <td>6</td>\n      <td>7</td>\n      <td>1-7</td>\n    </tr>\n    <tr>\n      <td>4982606</td>\n      <td>1</td>\n      <td>2067-05-14 17:10:00</td>\n      <td>2067-05-20 14:25:00</td>\n      <td>True</td>\n      <td>1</td>\n      <td>7</td>\n      <td>8</td>\n      <td>1-8</td>\n    </tr>\n    <tr>\n      <td>4982563</td>\n      <td>1</td>\n      <td>2067-05-14 13:35:00</td>\n      <td>2067-05-14 17:10:00</td>\n      <td>False</td>\n      <td>0</td>\n      <td>7</td>\n      <td>8</td>\n      <td>1-8</td>\n    </tr>\n    <tr>\n      <td>4982447</td>\n      <td>1</td>\n      <td>2067-05-14 03:55:00</td>\n      <td>2067-05-14 13:35:00</td>\n      <td>False</td>\n      <td>0</td>\n      <td>7</td>\n      <td>8</td>\n      <td>1-8</td>\n    </tr>\n    <tr>\n      <td>4981945</td>\n      <td>1</td>\n      <td>2067-05-12 10:05:00</td>\n      <td>2067-05-14 03:55:00</td>\n      <td>False</td>\n      <td>0</td>\n      <td>7</td>\n      <td>8</td>\n      <td>1-8</td>\n    </tr>\n    <tr>\n      <td>4980936</td>\n      <td>1</td>\n      <td>2067-05-08 22:00:00</td>\n      <td>2067-05-12 10:05:00</td>\n      <td>False</td>\n      <td>0</td>\n      <td>7</td>\n      <td>8</td>\n      <td>1-8</td>\n    </tr>\n    <tr>\n      <td>4980808</td>\n      <td>1</td>\n      <td>2067-05-08 11:20:00</td>\n      <td>2067-05-08 22:00:00</td>\n      <td>False</td>\n      <td>0</td>\n      <td>7</td>\n      <td>8</td>\n      <td>1-8</td>\n    </tr>\n    <tr>\n      <td>4980048</td>\n      <td>1</td>\n      <td>2067-05-05 20:00:00</td>\n      <td>2067-05-08 11:20:00</td>\n      <td>False</td>\n      <td>0</td>\n      <td>7</td>\n      <td>8</td>\n      <td>1-8</td>\n    </tr>\n    <tr>\n      <td>4979356</td>\n      <td>1</td>\n      <td>2067-05-03 10:20:00</td>\n      <td>2067-05-05 20:00:00</td>\n      <td>False</td>\n      <td>0</td>\n      <td>7</td>\n      <td>8</td>\n      <td>1-8</td>\n    </tr>\n    <tr>\n      <td>4978957</td>\n      <td>1</td>\n      <td>2067-05-02 01:05:00</td>\n      <td>2067-05-03 10:20:00</td>\n      <td>False</td>\n      <td>0</td>\n      <td>7</td>\n      <td>8</td>\n      <td>1-8</td>\n    </tr>\n    <tr>\n      <td>4978743</td>\n      <td>1</td>\n      <td>2067-05-01 07:15:00</td>\n      <td>2067-05-02 01:05:00</td>\n      <td>False</td>\n      <td>0</td>\n      <td>7</td>\n      <td>8</td>\n      <td>1-8</td>\n    </tr>\n    <tr>\n      <td>4978641</td>\n      <td>1</td>\n      <td>2067-04-30 22:45:00</td>\n      <td>2067-05-01 07:15:00</td>\n      <td>False</td>\n      <td>0</td>\n      <td>7</td>\n      <td>8</td>\n      <td>1-8</td>\n    </tr>\n    <tr>\n      <td>4978631</td>\n      <td>1</td>\n      <td>2067-04-30 21:55:00</td>\n      <td>2067-04-30 22:45:00</td>\n      <td>False</td>\n      <td>0</td>\n      <td>7</td>\n      <td>8</td>\n      <td>1-8</td>\n    </tr>\n    <tr>\n      <td>4978447</td>\n      <td>1</td>\n      <td>2067-04-30 06:35:00</td>\n      <td>2067-04-30 21:55:00</td>\n      <td>False</td>\n      <td>0</td>\n      <td>7</td>\n      <td>8</td>\n      <td>1-8</td>\n    </tr>\n    <tr>\n      <td>4978298</td>\n      <td>1</td>\n      <td>2067-04-29 18:10:00</td>\n      <td>2067-04-30 06:35:00</td>\n      <td>False</td>\n      <td>0</td>\n      <td>7</td>\n      <td>8</td>\n      <td>1-8</td>\n    </tr>\n    <tr>\n      <td>4978240</td>\n      <td>1</td>\n      <td>2067-04-29 13:20:00</td>\n      <td>2067-04-29 18:10:00</td>\n      <td>False</td>\n      <td>0</td>\n      <td>7</td>\n      <td>8</td>\n      <td>1-8</td>\n    </tr>\n    <tr>\n      <td>4978077</td>\n      <td>1</td>\n      <td>2067-04-28 23:45:00</td>\n      <td>2067-04-29 13:20:00</td>\n      <td>False</td>\n      <td>0</td>\n      <td>7</td>\n      <td>8</td>\n      <td>1-8</td>\n    </tr>\n    <tr>\n      <td>4977020</td>\n      <td>1</td>\n      <td>2067-04-25 07:40:00</td>\n      <td>2067-04-28 23:45:00</td>\n      <td>False</td>\n      <td>0</td>\n      <td>7</td>\n      <td>8</td>\n      <td>1-8</td>\n    </tr>\n    <tr>\n      <td>4976207</td>\n      <td>1</td>\n      <td>2067-04-22 11:55:00</td>\n      <td>2067-04-25 07:40:00</td>\n      <td>False</td>\n      <td>0</td>\n      <td>7</td>\n      <td>8</td>\n      <td>1-8</td>\n    </tr>\n    <tr>\n      <td>4976017</td>\n      <td>1</td>\n      <td>2067-04-21 20:05:00</td>\n      <td>2067-04-22 11:55:00</td>\n      <td>False</td>\n      <td>0</td>\n      <td>7</td>\n      <td>8</td>\n      <td>1-8</td>\n    </tr>\n    <tr>\n      <td>4975274</td>\n      <td>1</td>\n      <td>2067-04-19 06:10:00</td>\n      <td>2067-04-21 20:05:00</td>\n      <td>False</td>\n      <td>0</td>\n      <td>7</td>\n      <td>8</td>\n      <td>1-8</td>\n    </tr>\n    <tr>\n      <td>4975256</td>\n      <td>1</td>\n      <td>2067-04-19 04:40:00</td>\n      <td>2067-04-19 06:10:00</td>\n      <td>False</td>\n      <td>0</td>\n      <td>7</td>\n      <td>8</td>\n      <td>1-8</td>\n    </tr>\n    <tr>\n      <td>4974379</td>\n      <td>1</td>\n      <td>2067-04-16 03:35:00</td>\n      <td>2067-04-19 04:40:00</td>\n      <td>False</td>\n      <td>0</td>\n      <td>7</td>\n      <td>8</td>\n      <td>1-8</td>\n    </tr>\n    <tr>\n      <td>4974260</td>\n      <td>1</td>\n      <td>2067-04-15 17:40:00</td>\n      <td>2067-04-16 03:35:00</td>\n      <td>False</td>\n      <td>0</td>\n      <td>7</td>\n      <td>8</td>\n      <td>1-8</td>\n    </tr>\n    <tr>\n      <td>4974181</td>\n      <td>1</td>\n      <td>2067-04-15 11:05:00</td>\n      <td>2067-04-15 17:40:00</td>\n      <td>False</td>\n      <td>0</td>\n      <td>7</td>\n      <td>8</td>\n      <td>1-8</td>\n    </tr>\n    <tr>\n      <td>4973282</td>\n      <td>1</td>\n      <td>2067-04-12 08:10:00</td>\n      <td>2067-04-15 11:05:00</td>\n      <td>False</td>\n      <td>0</td>\n      <td>7</td>\n      <td>8</td>\n      <td>1-8</td>\n    </tr>\n    <tr>\n      <td>4972946</td>\n      <td>1</td>\n      <td>2067-04-11 04:10:00</td>\n      <td>2067-04-12 08:10:00</td>\n      <td>False</td>\n      <td>0</td>\n      <td>7</td>\n      <td>8</td>\n      <td>1-8</td>\n    </tr>\n    <tr>\n      <td>4971464</td>\n      <td>1</td>\n      <td>2067-04-06 00:40:00</td>\n      <td>2067-04-11 04:10:00</td>\n      <td>True</td>\n      <td>1</td>\n      <td>8</td>\n      <td>9</td>\n      <td>1-9</td>\n    </tr>\n    <tr>\n      <td>4971455</td>\n      <td>1</td>\n      <td>2067-04-05 23:55:00</td>\n      <td>2067-04-06 00:40:00</td>\n      <td>False</td>\n      <td>0</td>\n      <td>8</td>\n      <td>9</td>\n      <td>1-9</td>\n    </tr>\n    <tr>\n      <td>4969954</td>\n      <td>1</td>\n      <td>2067-03-31 18:50:00</td>\n      <td>2067-04-05 23:55:00</td>\n      <td>True</td>\n      <td>1</td>\n      <td>9</td>\n      <td>10</td>\n      <td>1-10</td>\n    </tr>\n    <tr>\n      <td>4969821</td>\n      <td>1</td>\n      <td>2067-03-31 07:45:00</td>\n      <td>2067-03-31 18:50:00</td>\n      <td>False</td>\n      <td>0</td>\n      <td>9</td>\n      <td>10</td>\n      <td>1-10</td>\n    </tr>\n    <tr>\n      <td>4969548</td>\n      <td>1</td>\n      <td>2067-03-30 09:00:00</td>\n      <td>2067-03-31 07:45:00</td>\n      <td>False</td>\n      <td>0</td>\n      <td>9</td>\n      <td>10</td>\n      <td>1-10</td>\n    </tr>\n    <tr>\n      <td>4969445</td>\n      <td>1</td>\n      <td>2067-03-30 00:25:00</td>\n      <td>2067-03-30 09:00:00</td>\n      <td>False</td>\n      <td>0</td>\n      <td>9</td>\n      <td>10</td>\n      <td>1-10</td>\n    </tr>\n    <tr>\n      <td>4969256</td>\n      <td>1</td>\n      <td>2067-03-29 08:40:00</td>\n      <td>2067-03-30 00:25:00</td>\n      <td>False</td>\n      <td>0</td>\n      <td>9</td>\n      <td>10</td>\n      <td>1-10</td>\n    </tr>\n  </tbody>\n</table>\n</div>"
     },
     "metadata": {},
     "execution_count": 4
    }
   ],
   "source": [
    "%%time\n",
    "std = pd.Timedelta('4 days')\n",
    "df['date_shift'] = df.groupby(['id'])['date'].shift(periods = 1)\n",
    "df['date_diff'] = df['date_shift'] - df['date']\n",
    "df['date_diff'] = (df['date_diff'] - std) > pd.Timedelta('0 days')\n",
    "df['diff'] = np.where(df['date_diff'] == True,1,0)\n",
    "df['diff_cumsum'] = df.groupby(['id'])['diff'].cumsum()\n",
    "df['new_id_surfix'] = df['diff_cumsum'] + 1\n",
    "df['new_id'] = df['id'].astype(str) + '-' + df['new_id_surfix'].astype(str)\n",
    "df.head(50)"
   ]
  }
 ],
 "metadata": {
  "language_info": {
   "codemirror_mode": {
    "name": "ipython",
    "version": 3
   },
   "file_extension": ".py",
   "mimetype": "text/x-python",
   "name": "python",
   "nbconvert_exporter": "python",
   "pygments_lexer": "ipython3",
   "version": "3.7.4-final"
  },
  "orig_nbformat": 2,
  "kernelspec": {
   "name": "python37464bitbaseconda09e93616414f45a185b9f87bf47318ec",
   "display_name": "Python 3.7.4 64-bit ('base': conda)"
  }
 },
 "nbformat": 4,
 "nbformat_minor": 2
}